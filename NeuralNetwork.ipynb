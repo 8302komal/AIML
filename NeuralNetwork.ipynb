{
 "cells": [
  {
   "cell_type": "code",
   "execution_count": 1,
   "id": "25f11009-510d-4622-9dc3-e2ef4f112ed2",
   "metadata": {},
   "outputs": [
    {
     "name": "stdout",
     "output_type": "stream",
     "text": [
      "Requirement already satisfied: tensorflow in c:\\users\\komal\\anaconda3\\lib\\site-packages (2.18.0)\n",
      "Requirement already satisfied: tensorflow-intel==2.18.0 in c:\\users\\komal\\anaconda3\\lib\\site-packages (from tensorflow) (2.18.0)\n",
      "Requirement already satisfied: absl-py>=1.0.0 in c:\\users\\komal\\anaconda3\\lib\\site-packages (from tensorflow-intel==2.18.0->tensorflow) (2.1.0)\n",
      "Requirement already satisfied: astunparse>=1.6.0 in c:\\users\\komal\\anaconda3\\lib\\site-packages (from tensorflow-intel==2.18.0->tensorflow) (1.6.3)\n",
      "Requirement already satisfied: flatbuffers>=24.3.25 in c:\\users\\komal\\anaconda3\\lib\\site-packages (from tensorflow-intel==2.18.0->tensorflow) (25.1.24)\n",
      "Requirement already satisfied: gast!=0.5.0,!=0.5.1,!=0.5.2,>=0.2.1 in c:\\users\\komal\\anaconda3\\lib\\site-packages (from tensorflow-intel==2.18.0->tensorflow) (0.6.0)\n",
      "Requirement already satisfied: google-pasta>=0.1.1 in c:\\users\\komal\\anaconda3\\lib\\site-packages (from tensorflow-intel==2.18.0->tensorflow) (0.2.0)\n",
      "Requirement already satisfied: libclang>=13.0.0 in c:\\users\\komal\\anaconda3\\lib\\site-packages (from tensorflow-intel==2.18.0->tensorflow) (18.1.1)\n",
      "Requirement already satisfied: opt-einsum>=2.3.2 in c:\\users\\komal\\anaconda3\\lib\\site-packages (from tensorflow-intel==2.18.0->tensorflow) (3.4.0)\n",
      "Requirement already satisfied: packaging in c:\\users\\komal\\anaconda3\\lib\\site-packages (from tensorflow-intel==2.18.0->tensorflow) (24.1)\n",
      "Requirement already satisfied: protobuf!=4.21.0,!=4.21.1,!=4.21.2,!=4.21.3,!=4.21.4,!=4.21.5,<6.0.0dev,>=3.20.3 in c:\\users\\komal\\anaconda3\\lib\\site-packages (from tensorflow-intel==2.18.0->tensorflow) (4.25.3)\n",
      "Requirement already satisfied: requests<3,>=2.21.0 in c:\\users\\komal\\anaconda3\\lib\\site-packages (from tensorflow-intel==2.18.0->tensorflow) (2.32.3)\n",
      "Requirement already satisfied: setuptools in c:\\users\\komal\\anaconda3\\lib\\site-packages (from tensorflow-intel==2.18.0->tensorflow) (75.1.0)\n",
      "Requirement already satisfied: six>=1.12.0 in c:\\users\\komal\\anaconda3\\lib\\site-packages (from tensorflow-intel==2.18.0->tensorflow) (1.16.0)\n",
      "Requirement already satisfied: termcolor>=1.1.0 in c:\\users\\komal\\anaconda3\\lib\\site-packages (from tensorflow-intel==2.18.0->tensorflow) (2.5.0)\n",
      "Requirement already satisfied: typing-extensions>=3.6.6 in c:\\users\\komal\\anaconda3\\lib\\site-packages (from tensorflow-intel==2.18.0->tensorflow) (4.11.0)\n",
      "Requirement already satisfied: wrapt>=1.11.0 in c:\\users\\komal\\anaconda3\\lib\\site-packages (from tensorflow-intel==2.18.0->tensorflow) (1.14.1)\n",
      "Requirement already satisfied: grpcio<2.0,>=1.24.3 in c:\\users\\komal\\anaconda3\\lib\\site-packages (from tensorflow-intel==2.18.0->tensorflow) (1.70.0)\n",
      "Requirement already satisfied: tensorboard<2.19,>=2.18 in c:\\users\\komal\\anaconda3\\lib\\site-packages (from tensorflow-intel==2.18.0->tensorflow) (2.18.0)\n",
      "Requirement already satisfied: keras>=3.5.0 in c:\\users\\komal\\anaconda3\\lib\\site-packages (from tensorflow-intel==2.18.0->tensorflow) (3.8.0)\n",
      "Requirement already satisfied: numpy<2.1.0,>=1.26.0 in c:\\users\\komal\\anaconda3\\lib\\site-packages (from tensorflow-intel==2.18.0->tensorflow) (1.26.4)\n",
      "Requirement already satisfied: h5py>=3.11.0 in c:\\users\\komal\\anaconda3\\lib\\site-packages (from tensorflow-intel==2.18.0->tensorflow) (3.11.0)\n",
      "Requirement already satisfied: ml-dtypes<0.5.0,>=0.4.0 in c:\\users\\komal\\anaconda3\\lib\\site-packages (from tensorflow-intel==2.18.0->tensorflow) (0.4.1)\n",
      "Requirement already satisfied: wheel<1.0,>=0.23.0 in c:\\users\\komal\\anaconda3\\lib\\site-packages (from astunparse>=1.6.0->tensorflow-intel==2.18.0->tensorflow) (0.44.0)\n",
      "Requirement already satisfied: rich in c:\\users\\komal\\anaconda3\\lib\\site-packages (from keras>=3.5.0->tensorflow-intel==2.18.0->tensorflow) (13.7.1)\n",
      "Requirement already satisfied: namex in c:\\users\\komal\\anaconda3\\lib\\site-packages (from keras>=3.5.0->tensorflow-intel==2.18.0->tensorflow) (0.0.8)\n",
      "Requirement already satisfied: optree in c:\\users\\komal\\anaconda3\\lib\\site-packages (from keras>=3.5.0->tensorflow-intel==2.18.0->tensorflow) (0.14.0)\n",
      "Requirement already satisfied: charset-normalizer<4,>=2 in c:\\users\\komal\\anaconda3\\lib\\site-packages (from requests<3,>=2.21.0->tensorflow-intel==2.18.0->tensorflow) (3.3.2)\n",
      "Requirement already satisfied: idna<4,>=2.5 in c:\\users\\komal\\anaconda3\\lib\\site-packages (from requests<3,>=2.21.0->tensorflow-intel==2.18.0->tensorflow) (3.7)\n",
      "Requirement already satisfied: urllib3<3,>=1.21.1 in c:\\users\\komal\\anaconda3\\lib\\site-packages (from requests<3,>=2.21.0->tensorflow-intel==2.18.0->tensorflow) (2.2.3)\n",
      "Requirement already satisfied: certifi>=2017.4.17 in c:\\users\\komal\\anaconda3\\lib\\site-packages (from requests<3,>=2.21.0->tensorflow-intel==2.18.0->tensorflow) (2025.1.31)\n",
      "Requirement already satisfied: markdown>=2.6.8 in c:\\users\\komal\\anaconda3\\lib\\site-packages (from tensorboard<2.19,>=2.18->tensorflow-intel==2.18.0->tensorflow) (3.4.1)\n",
      "Requirement already satisfied: tensorboard-data-server<0.8.0,>=0.7.0 in c:\\users\\komal\\anaconda3\\lib\\site-packages (from tensorboard<2.19,>=2.18->tensorflow-intel==2.18.0->tensorflow) (0.7.2)\n",
      "Requirement already satisfied: werkzeug>=1.0.1 in c:\\users\\komal\\anaconda3\\lib\\site-packages (from tensorboard<2.19,>=2.18->tensorflow-intel==2.18.0->tensorflow) (3.0.3)\n",
      "Requirement already satisfied: MarkupSafe>=2.1.1 in c:\\users\\komal\\anaconda3\\lib\\site-packages (from werkzeug>=1.0.1->tensorboard<2.19,>=2.18->tensorflow-intel==2.18.0->tensorflow) (2.1.3)\n",
      "Requirement already satisfied: markdown-it-py>=2.2.0 in c:\\users\\komal\\anaconda3\\lib\\site-packages (from rich->keras>=3.5.0->tensorflow-intel==2.18.0->tensorflow) (2.2.0)\n",
      "Requirement already satisfied: pygments<3.0.0,>=2.13.0 in c:\\users\\komal\\anaconda3\\lib\\site-packages (from rich->keras>=3.5.0->tensorflow-intel==2.18.0->tensorflow) (2.15.1)\n",
      "Requirement already satisfied: mdurl~=0.1 in c:\\users\\komal\\anaconda3\\lib\\site-packages (from markdown-it-py>=2.2.0->rich->keras>=3.5.0->tensorflow-intel==2.18.0->tensorflow) (0.1.0)\n"
     ]
    }
   ],
   "source": [
    "!pip install tensorflow"
   ]
  },
  {
   "cell_type": "code",
   "execution_count": 3,
   "id": "26109638-cfe1-4e82-8173-ed8462edad1b",
   "metadata": {},
   "outputs": [],
   "source": [
    "import numpy as np\n",
    "import tensorflow as tf\n",
    "from tensorflow import keras\n",
    "import matplotlib.pyplot as plt"
   ]
  },
  {
   "cell_type": "code",
   "execution_count": 4,
   "id": "f79c7ca6-f36d-4db9-aa94-e5beb9ec1b3e",
   "metadata": {},
   "outputs": [],
   "source": [
    "#generating simple synthetic data\n",
    "np.random.seed(42)\n",
    "X = np.linspace(-1, 1, 200)\n",
    "y = X**2 + np.random.normal(0, 0.1, size=X.shape)"
   ]
  },
  {
   "cell_type": "code",
   "execution_count": 5,
   "id": "23133a8d-4320-4aca-908e-2a8c98cd3394",
   "metadata": {},
   "outputs": [],
   "source": [
    "# splitting into training or testing sets\n",
    "X_train, X_test = X[:150], X[150:]\n",
    "y_train, y_test = y[:150], y[150:]"
   ]
  },
  {
   "cell_type": "code",
   "execution_count": 6,
   "id": "baf675c6-b826-4e44-9b59-58b19f5171e8",
   "metadata": {},
   "outputs": [
    {
     "data": {
      "text/plain": [
       "array([-1.        , -0.98994975, -0.9798995 , -0.96984925, -0.95979899,\n",
       "       -0.94974874, -0.93969849, -0.92964824, -0.91959799, -0.90954774,\n",
       "       -0.89949749, -0.88944724, -0.87939698, -0.86934673, -0.85929648,\n",
       "       -0.84924623, -0.83919598, -0.82914573, -0.81909548, -0.80904523,\n",
       "       -0.79899497, -0.78894472, -0.77889447, -0.76884422, -0.75879397,\n",
       "       -0.74874372, -0.73869347, -0.72864322, -0.71859296, -0.70854271,\n",
       "       -0.69849246, -0.68844221, -0.67839196, -0.66834171, -0.65829146,\n",
       "       -0.64824121, -0.63819095, -0.6281407 , -0.61809045, -0.6080402 ,\n",
       "       -0.59798995, -0.5879397 , -0.57788945, -0.5678392 , -0.55778894,\n",
       "       -0.54773869, -0.53768844, -0.52763819, -0.51758794, -0.50753769,\n",
       "       -0.49748744, -0.48743719, -0.47738693, -0.46733668, -0.45728643,\n",
       "       -0.44723618, -0.43718593, -0.42713568, -0.41708543, -0.40703518,\n",
       "       -0.39698492, -0.38693467, -0.37688442, -0.36683417, -0.35678392,\n",
       "       -0.34673367, -0.33668342, -0.32663317, -0.31658291, -0.30653266,\n",
       "       -0.29648241, -0.28643216, -0.27638191, -0.26633166, -0.25628141,\n",
       "       -0.24623116, -0.2361809 , -0.22613065, -0.2160804 , -0.20603015,\n",
       "       -0.1959799 , -0.18592965, -0.1758794 , -0.16582915, -0.15577889,\n",
       "       -0.14572864, -0.13567839, -0.12562814, -0.11557789, -0.10552764,\n",
       "       -0.09547739, -0.08542714, -0.07537688, -0.06532663, -0.05527638,\n",
       "       -0.04522613, -0.03517588, -0.02512563, -0.01507538, -0.00502513,\n",
       "        0.00502513,  0.01507538,  0.02512563,  0.03517588,  0.04522613,\n",
       "        0.05527638,  0.06532663,  0.07537688,  0.08542714,  0.09547739,\n",
       "        0.10552764,  0.11557789,  0.12562814,  0.13567839,  0.14572864,\n",
       "        0.15577889,  0.16582915,  0.1758794 ,  0.18592965,  0.1959799 ,\n",
       "        0.20603015,  0.2160804 ,  0.22613065,  0.2361809 ,  0.24623116,\n",
       "        0.25628141,  0.26633166,  0.27638191,  0.28643216,  0.29648241,\n",
       "        0.30653266,  0.31658291,  0.32663317,  0.33668342,  0.34673367,\n",
       "        0.35678392,  0.36683417,  0.37688442,  0.38693467,  0.39698492,\n",
       "        0.40703518,  0.41708543,  0.42713568,  0.43718593,  0.44723618,\n",
       "        0.45728643,  0.46733668,  0.47738693,  0.48743719,  0.49748744])"
      ]
     },
     "execution_count": 6,
     "metadata": {},
     "output_type": "execute_result"
    }
   ],
   "source": [
    "X_train"
   ]
  },
  {
   "cell_type": "code",
   "execution_count": 11,
   "id": "3733c621-12a2-44cb-aa79-a73bf11931be",
   "metadata": {},
   "outputs": [
    {
     "data": {
      "text/plain": [
       "array([ 1.04967142e+00,  9.66174075e-01,  1.02497188e+00,  1.09291055e+00,\n",
       "        8.97798773e-01,  8.78608981e-01,  1.04095454e+00,  9.40989325e-01,\n",
       "        7.98713025e-01,  8.81533093e-01,  7.62753961e-01,  7.44543411e-01,\n",
       "        7.97535284e-01,  5.64435719e-01,  5.65898661e-01,  6.64990408e-01,\n",
       "        6.02966781e-01,  7.18907373e-01,  5.80114994e-01,  5.13323808e-01,\n",
       "        7.84957847e-01,  5.99856147e-01,  6.13429420e-01,  4.48646618e-01,\n",
       "        5.21330016e-01,  5.71709415e-01,  4.30568681e-01,  5.68490738e-01,\n",
       "        4.56311980e-01,  4.72863402e-01,  4.27721059e-01,  6.59180496e-01,\n",
       "        4.58865929e-01,  3.40909546e-01,  5.15602134e-01,  2.98132296e-01,\n",
       "        4.28174054e-01,  1.98593731e-01,  2.49217202e-01,  3.89399010e-01,\n",
       "        4.31438638e-01,  3.62809917e-01,  3.22391385e-01,  2.92330983e-01,\n",
       "        1.63276308e-01,  2.28033255e-01,  2.43044984e-01,  3.84114283e-01,\n",
       "        3.02259104e-01,  8.12904897e-02,  2.79902147e-01,  1.99086782e-01,\n",
       "        1.60206085e-01,  2.79571205e-01,  3.12210833e-01,  2.93148213e-01,\n",
       "        1.07209785e-01,  1.51523650e-01,  2.07086597e-01,  2.63232147e-01,\n",
       "        1.09679607e-01,  1.31152544e-01,  3.14083702e-02,  1.49466465e-02,\n",
       "        2.08547348e-01,  2.55848240e-01,  1.06154711e-01,  2.07042515e-01,\n",
       "        1.36388344e-01,  2.94502982e-02,  1.24041381e-01,  2.35847039e-01,\n",
       "        7.28043560e-02,  2.27396918e-01, -1.96294351e-01,  1.42820033e-01,\n",
       "        6.44861265e-02,  2.12343373e-02,  5.58668178e-02, -1.56308468e-01,\n",
       "        1.64409322e-02,  7.02810912e-02,  1.78722967e-01, -2.43277163e-02,\n",
       "       -5.65822963e-02, -2.89388669e-02,  1.09948838e-01,  4.86575407e-02,\n",
       "       -3.96177718e-02,  6.24628257e-02,  1.88236864e-02,  1.04162295e-01,\n",
       "       -6.45236347e-02, -2.84986457e-02, -3.61553369e-02, -1.44306092e-01,\n",
       "        3.08493702e-02,  2.67368244e-02,  7.38612652e-04, -2.34334614e-02,\n",
       "       -1.41511822e-01, -4.18372653e-02, -3.36401545e-02, -7.89903844e-02,\n",
       "       -1.40831683e-02,  4.34605641e-02,  1.92886159e-01,  2.31394560e-02,\n",
       "        3.30528346e-02,  1.67133984e-03, -1.80741039e-01,  1.07068610e-02,\n",
       "        2.18054507e-02,  2.64732837e-01,  2.00074098e-03,  5.44217982e-02,\n",
       "        2.40281286e-02, -8.59342415e-02,  1.48852116e-01,  1.13601424e-01,\n",
       "        1.21551618e-01, -4.42480053e-02,  1.91414503e-01, -8.44036866e-02,\n",
       "        1.19315491e-01,  2.84725722e-01, -2.81210803e-02,  1.97571870e-02,\n",
       "        9.20085193e-02,  3.75542552e-02, -6.11040694e-02,  1.07081039e-01,\n",
       "        4.58853647e-04,  1.60714966e-01,  2.82818133e-02,  2.82288206e-01,\n",
       "        5.62419797e-02,  1.09835716e-01,  2.31070163e-01,  3.45105987e-02,\n",
       "        1.88423628e-01,  3.04674529e-01,  2.16965643e-02,  2.09594923e-01,\n",
       "        2.26008481e-01,  2.87293168e-01,  9.47085046e-02,  9.58526241e-02,\n",
       "        2.89789167e-01,  2.77192217e-01])"
      ]
     },
     "execution_count": 11,
     "metadata": {},
     "output_type": "execute_result"
    }
   ],
   "source": [
    "y_train"
   ]
  },
  {
   "cell_type": "code",
   "execution_count": 15,
   "id": "fda3027a-9cb8-44ed-81c4-511c85d6effd",
   "metadata": {},
   "outputs": [],
   "source": [
    "# building a simple neural network model\n",
    "model = keras.Sequential([\n",
    "     keras.layers.Dense(10, activation='relu', input_shape=(1,)),\n",
    "     keras.layers.Dense(1)\n",
    "])"
   ]
  },
  {
   "cell_type": "code",
   "execution_count": 17,
   "id": "5a57a6cd-2d6d-4d11-8d01-b3237d411952",
   "metadata": {},
   "outputs": [],
   "source": [
    "#compiling the model\n",
    "model.compile(optimizer='adam', loss='mse')"
   ]
  },
  {
   "cell_type": "code",
   "execution_count": 19,
   "id": "01465a8c-0e39-4ce6-a05f-60f2626a9323",
   "metadata": {},
   "outputs": [],
   "source": [
    "#training the model\n",
    "history = model.fit(X_train, y_train, epochs=100, verbose=0)"
   ]
  },
  {
   "cell_type": "code",
   "execution_count": 20,
   "id": "e4251295-a640-4fc9-8b8c-54e9546376f2",
   "metadata": {},
   "outputs": [],
   "source": [
    "#making predictions\n",
    "X_test = np.array(X_test).reshape(-1, 1)\n",
    "y_pred = model.predict(X_test, verbose=0)"
   ]
  },
  {
   "cell_type": "code",
   "execution_count": 23,
   "id": "3c85e1b8-d25f-4922-a404-6ce3a191c688",
   "metadata": {},
   "outputs": [
    {
     "data": {
      "text/plain": [
       "array([[0.50753769],\n",
       "       [0.51758794],\n",
       "       [0.52763819],\n",
       "       [0.53768844],\n",
       "       [0.54773869],\n",
       "       [0.55778894],\n",
       "       [0.5678392 ],\n",
       "       [0.57788945],\n",
       "       [0.5879397 ],\n",
       "       [0.59798995],\n",
       "       [0.6080402 ],\n",
       "       [0.61809045],\n",
       "       [0.6281407 ],\n",
       "       [0.63819095],\n",
       "       [0.64824121],\n",
       "       [0.65829146],\n",
       "       [0.66834171],\n",
       "       [0.67839196],\n",
       "       [0.68844221],\n",
       "       [0.69849246],\n",
       "       [0.70854271],\n",
       "       [0.71859296],\n",
       "       [0.72864322],\n",
       "       [0.73869347],\n",
       "       [0.74874372],\n",
       "       [0.75879397],\n",
       "       [0.76884422],\n",
       "       [0.77889447],\n",
       "       [0.78894472],\n",
       "       [0.79899497],\n",
       "       [0.80904523],\n",
       "       [0.81909548],\n",
       "       [0.82914573],\n",
       "       [0.83919598],\n",
       "       [0.84924623],\n",
       "       [0.85929648],\n",
       "       [0.86934673],\n",
       "       [0.87939698],\n",
       "       [0.88944724],\n",
       "       [0.89949749],\n",
       "       [0.90954774],\n",
       "       [0.91959799],\n",
       "       [0.92964824],\n",
       "       [0.93969849],\n",
       "       [0.94974874],\n",
       "       [0.95979899],\n",
       "       [0.96984925],\n",
       "       [0.9798995 ],\n",
       "       [0.98994975],\n",
       "       [1.        ]])"
      ]
     },
     "execution_count": 23,
     "metadata": {},
     "output_type": "execute_result"
    }
   ],
   "source": [
    "X_test"
   ]
  },
  {
   "cell_type": "code",
   "execution_count": 25,
   "id": "39702eaf-bb1f-4e3d-befa-d3cf7218807c",
   "metadata": {},
   "outputs": [
    {
     "data": {
      "text/plain": [
       "array([[0.16557133],\n",
       "       [0.16809149],\n",
       "       [0.17061168],\n",
       "       [0.17313185],\n",
       "       [0.17565201],\n",
       "       [0.17817219],\n",
       "       [0.18069236],\n",
       "       [0.18321253],\n",
       "       [0.18561397],\n",
       "       [0.18796192],\n",
       "       [0.19030981],\n",
       "       [0.19265771],\n",
       "       [0.19500563],\n",
       "       [0.19735351],\n",
       "       [0.19970146],\n",
       "       [0.20204936],\n",
       "       [0.20439725],\n",
       "       [0.20674519],\n",
       "       [0.20909308],\n",
       "       [0.21144097],\n",
       "       [0.2137889 ],\n",
       "       [0.21613681],\n",
       "       [0.2184847 ],\n",
       "       [0.22083262],\n",
       "       [0.2231805 ],\n",
       "       [0.22552843],\n",
       "       [0.22787632],\n",
       "       [0.23022424],\n",
       "       [0.23257212],\n",
       "       [0.23492004],\n",
       "       [0.23726796],\n",
       "       [0.23961584],\n",
       "       [0.24196373],\n",
       "       [0.24431168],\n",
       "       [0.24665959],\n",
       "       [0.24900751],\n",
       "       [0.25135535],\n",
       "       [0.25370327],\n",
       "       [0.25605118],\n",
       "       [0.2583991 ],\n",
       "       [0.26074696],\n",
       "       [0.26309493],\n",
       "       [0.26544276],\n",
       "       [0.2677907 ],\n",
       "       [0.27013865],\n",
       "       [0.2724865 ],\n",
       "       [0.27483442],\n",
       "       [0.27718234],\n",
       "       [0.2795302 ],\n",
       "       [0.28187814]], dtype=float32)"
      ]
     },
     "execution_count": 25,
     "metadata": {},
     "output_type": "execute_result"
    }
   ],
   "source": [
    "y_pred"
   ]
  },
  {
   "cell_type": "code",
   "execution_count": 29,
   "id": "fa5c6804-6484-49c6-b5bb-7abd6cd04e45",
   "metadata": {},
   "outputs": [
    {
     "data": {
      "image/png": "[encoded data removed]",
      "text/plain": [
       "<Figure size 800x500 with 1 Axes>"
      ]
     },
     "metadata": {},
     "output_type": "display_data"
    }
   ],
   "source": [
    " # Plotting results\n",
    "plt.figure(figsize=(8, 5))\n",
    "plt.scatter(X_train, y_train, color='yellow', label='Training Data')\n",
    "plt.scatter(X_test, y_test, color=\"green\", label='Testing Data')\n",
    "plt.plot(X_test, y_pred, color='black', linewidth=2, label='Predictions') \n",
    "plt.xlabel('Input X')\n",
    "plt.ylabel('Ouput y')\n",
    "plt.title('Simple Neural Network Regression')\n",
    "plt.legend()\n",
    "plt.show()"
   ]
  },
  {
   "cell_type": "code",
   "execution_count": null,
   "id": "4b96530d-6848-4d5b-8186-97c27eebe414",
   "metadata": {},
   "outputs": [],
   "source": []
  }
 ],
 "metadata": {
  "kernelspec": {
   "display_name": "Python [conda env:base] *",
   "language": "python",
   "name": "conda-base-py"
  },
  "language_info": {
   "codemirror_mode": {
    "name": "ipython",
    "version": 3
   },
   "file_extension": ".py",
   "mimetype": "text/x-python",
   "name": "python",
   "nbconvert_exporter": "python",
   "pygments_lexer": "ipython3",
   "version": "3.12.7"
  }
 },
 "nbformat": 4,
 "nbformat_minor": 5
}

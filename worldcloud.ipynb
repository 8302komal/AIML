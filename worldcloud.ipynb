{
 "cells": [
  {
   "cell_type": "code",
   "execution_count": 1,
   "id": "3c920082-e04b-4dfc-ac04-d64198fa0975",
   "metadata": {},
   "outputs": [
    {
     "name": "stdout",
     "output_type": "stream",
     "text": [
      "Requirement already satisfied: wordcloud in c:\\users\\komal\\anaconda3\\lib\\site-packages (1.9.4)\n",
      "Requirement already satisfied: numpy>=1.6.1 in c:\\users\\komal\\anaconda3\\lib\\site-packages (from wordcloud) (1.26.4)\n",
      "Requirement already satisfied: pillow in c:\\users\\komal\\anaconda3\\lib\\site-packages (from wordcloud) (10.4.0)\n",
      "Requirement already satisfied: matplotlib in c:\\users\\komal\\anaconda3\\lib\\site-packages (from wordcloud) (3.9.2)\n",
      "Requirement already satisfied: contourpy>=1.0.1 in c:\\users\\komal\\anaconda3\\lib\\site-packages (from matplotlib->wordcloud) (1.2.0)\n",
      "Requirement already satisfied: cycler>=0.10 in c:\\users\\komal\\anaconda3\\lib\\site-packages (from matplotlib->wordcloud) (0.11.0)\n",
      "Requirement already satisfied: fonttools>=4.22.0 in c:\\users\\komal\\anaconda3\\lib\\site-packages (from matplotlib->wordcloud) (4.51.0)\n",
      "Requirement already satisfied: kiwisolver>=1.3.1 in c:\\users\\komal\\anaconda3\\lib\\site-packages (from matplotlib->wordcloud) (1.4.4)\n",
      "Requirement already satisfied: packaging>=20.0 in c:\\users\\komal\\anaconda3\\lib\\site-packages (from matplotlib->wordcloud) (24.1)\n",
      "Requirement already satisfied: pyparsing>=2.3.1 in c:\\users\\komal\\anaconda3\\lib\\site-packages (from matplotlib->wordcloud) (3.1.2)\n",
      "Requirement already satisfied: python-dateutil>=2.7 in c:\\users\\komal\\anaconda3\\lib\\site-packages (from matplotlib->wordcloud) (2.9.0.post0)\n",
      "Requirement already satisfied: six>=1.5 in c:\\users\\komal\\anaconda3\\lib\\site-packages (from python-dateutil>=2.7->matplotlib->wordcloud) (1.16.0)\n"
     ]
    }
   ],
   "source": [
    "!pip install wordcloud"
   ]
  },
  {
   "cell_type": "code",
   "execution_count": 3,
   "id": "76a220b4-baae-4545-867e-361c4eab345e",
   "metadata": {},
   "outputs": [
    {
     "name": "stderr",
     "output_type": "stream",
     "text": [
      "[nltk_data] Downloading package punkt to\n",
      "[nltk_data]     C:\\Users\\komal\\AppData\\Roaming\\nltk_data...\n",
      "[nltk_data]   Package punkt is already up-to-date!\n",
      "[nltk_data] Downloading package stopwords to\n",
      "[nltk_data]     C:\\Users\\komal\\AppData\\Roaming\\nltk_data...\n",
      "[nltk_data]   Package stopwords is already up-to-date!\n"
     ]
    },
    {
     "data": {
      "text/plain": [
       "True"
      ]
     },
     "execution_count": 3,
     "metadata": {},
     "output_type": "execute_result"
    }
   ],
   "source": [
    "# Import necessary libraries\n",
    "import nltk\n",
    "from nltk.corpus import stopwords\n",
    "from nltk.tokenize import word_tokenize\n",
    "from wordcloud import WordCloud\n",
    "import matplotlib.pyplot as plt\n",
    "from collections import Counter\n",
    "\n",
    "# Ensure necessary NLTK data is downloaded\n",
    "nltk.download('punkt')\n",
    "nltk.download('stopwords')"
   ]
  },
  {
   "cell_type": "code",
   "execution_count": 5,
   "id": "60c764d5-5b26-4144-b387-b60325189fba",
   "metadata": {},
   "outputs": [
    {
     "name": "stdout",
     "output_type": "stream",
     "text": [
      "Nature is the connection between the physical world surrounding us and the life inside us. \n",
      "Nature is God’s most precious and valuable gift to humans. \n",
      "It is the principal source of all essential nutrients for all living things on the planet. \n",
      "‘Nature’ is one of the topics on which we might be asked to write a paragraph. \n",
      "Check the samples provided in the article to learn how to write one on your own\n"
     ]
    }
   ],
   "source": [
    "# Provided text\n",
    "text = \"\"\"Nature is the connection between the physical world surrounding us and the life inside us. \n",
    "Nature is God’s most precious and valuable gift to humans. \n",
    "It is the principal source of all essential nutrients for all living things on the planet. \n",
    "‘Nature’ is one of the topics on which we might be asked to write a paragraph. \n",
    "Check the samples provided in the article to learn how to write one on your own\"\"\"\n",
    "print(text)"
   ]
  },
  {
   "cell_type": "code",
   "execution_count": 7,
   "id": "2e87e693-f22d-489b-8f92-6bb90ea18e2b",
   "metadata": {},
   "outputs": [
    {
     "name": "stdout",
     "output_type": "stream",
     "text": [
      "['nature', 'is', 'the', 'connection', 'between', 'the', 'physical', 'world', 'surrounding', 'us', 'and', 'the', 'life', 'inside', 'us', '.', 'nature', 'is', 'god', '’', 's', 'most', 'precious', 'and', 'valuable', 'gift', 'to', 'humans', '.', 'it', 'is', 'the', 'principal', 'source', 'of', 'all', 'essential', 'nutrients', 'for', 'all', 'living', 'things', 'on', 'the', 'planet', '.', '‘', 'nature', '’', 'is', 'one', 'of', 'the', 'topics', 'on', 'which', 'we', 'might', 'be', 'asked', 'to', 'write', 'a', 'paragraph', '.', 'check', 'the', 'samples', 'provided', 'in', 'the', 'article', 'to', 'learn', 'how', 'to', 'write', 'one', 'on', 'your', 'own']\n"
     ]
    }
   ],
   "source": [
    "# Tokenization of words\n",
    "words = word_tokenize(text.lower())  # Convert to lowercase for uniformity\n",
    "print(words)"
   ]
  },
  {
   "cell_type": "code",
   "execution_count": 9,
   "id": "ad71c513-9ea5-45fd-bf00-18e68e060b01",
   "metadata": {},
   "outputs": [
    {
     "name": "stdout",
     "output_type": "stream",
     "text": [
      "['nature', 'connection', 'physical', 'world', 'surrounding', 'us', 'life', 'inside', 'us', 'nature', 'god', 'precious', 'valuable', 'gift', 'humans', 'principal', 'source', 'essential', 'nutrients', 'living', 'things', 'planet', 'nature', 'one', 'topics', 'might', 'asked', 'write', 'paragraph', 'check', 'samples', 'provided', 'article', 'learn', 'write', 'one']\n"
     ]
    }
   ],
   "source": [
    "# Remove stopwords\n",
    "stop_words = set(stopwords.words('english'))\n",
    "filtered_words = [word for word in words if word.isalpha() and word not in stop_words]\n",
    "# The general syntax for a list comprehension is: [expression for item in iterable if condition]\n",
    "print(filtered_words)"
   ]
  },
  {
   "cell_type": "code",
   "execution_count": 13,
   "id": "f7a5216c-f0b5-42ef-941c-807644cced6f",
   "metadata": {},
   "outputs": [
    {
     "name": "stdout",
     "output_type": "stream",
     "text": [
      "Counter({'nature': 3, 'us': 2, 'one': 2, 'write': 2, 'connection': 1, 'physical': 1, 'world': 1, 'surrounding': 1, 'life': 1, 'inside': 1, 'god': 1, 'precious': 1, 'valuable': 1, 'gift': 1, 'humans': 1, 'principal': 1, 'source': 1, 'essential': 1, 'nutrients': 1, 'living': 1, 'things': 1, 'planet': 1, 'topics': 1, 'might': 1, 'asked': 1, 'paragraph': 1, 'check': 1, 'samples': 1, 'provided': 1, 'article': 1, 'learn': 1})\n"
     ]
    }
   ],
   "source": [
    "# Frequency distribution of words\n",
    "word_freq = Counter(filtered_words)\n",
    "print(word_freq)"
   ]
  },
  {
   "cell_type": "code",
   "execution_count": 15,
   "id": "31932f1b-cdd0-4ef0-88b2-81d33e3492bb",
   "metadata": {},
   "outputs": [
    {
     "ename": "NameError",
     "evalue": "name 'wordcloud' is not defined",
     "output_type": "error",
     "traceback": [
      "\u001b[1;31m---------------------------------------------------------------------------\u001b[0m",
      "\u001b[1;31mNameError\u001b[0m                                 Traceback (most recent call last)",
      "Cell \u001b[1;32mIn[15], line 3\u001b[0m\n\u001b[0;32m      1\u001b[0m \u001b[38;5;66;03m# Plotting the word cloud\u001b[39;00m\n\u001b[0;32m      2\u001b[0m plt\u001b[38;5;241m.\u001b[39mfigure(figsize\u001b[38;5;241m=\u001b[39m(\u001b[38;5;241m10\u001b[39m, \u001b[38;5;241m5\u001b[39m))\n\u001b[1;32m----> 3\u001b[0m plt\u001b[38;5;241m.\u001b[39mimshow(wordcloud, interpolation\u001b[38;5;241m=\u001b[39m\u001b[38;5;124m'\u001b[39m\u001b[38;5;124mbilinear\u001b[39m\u001b[38;5;124m'\u001b[39m)\n\u001b[0;32m      4\u001b[0m plt\u001b[38;5;241m.\u001b[39maxis(\u001b[38;5;124m'\u001b[39m\u001b[38;5;124moff\u001b[39m\u001b[38;5;124m'\u001b[39m)  \u001b[38;5;66;03m# Hide axes\u001b[39;00m\n\u001b[0;32m      5\u001b[0m plt\u001b[38;5;241m.\u001b[39mshow()\n",
      "\u001b[1;31mNameError\u001b[0m: name 'wordcloud' is not defined"
     ]
    },
    {
     "data": {
      "text/plain": [
       "<Figure size 1000x500 with 0 Axes>"
      ]
     },
     "metadata": {},
     "output_type": "display_data"
    }
   ],
   "source": [
    "# Plotting the word cloud\n",
    "plt.figure(figsize=(10, 5))\n",
    "plt.imshow(wordcloud, interpolation='bilinear')\n",
    "plt.axis('off')  # Hide axes\n",
    "plt.show()"
   ]
  },
  {
   "cell_type": "code",
   "execution_count": null,
   "id": "b09cf2c4-3d03-4f5e-b861-e9de529c8018",
   "metadata": {},
   "outputs": [],
   "source": []
  }
 ],
 "metadata": {
  "kernelspec": {
   "display_name": "Python [conda env:base] *",
   "language": "python",
   "name": "conda-base-py"
  },
  "language_info": {
   "codemirror_mode": {
    "name": "ipython",
    "version": 3
   },
   "file_extension": ".py",
   "mimetype": "text/x-python",
   "name": "python",
   "nbconvert_exporter": "python",
   "pygments_lexer": "ipython3",
   "version": "3.12.7"
  }
 },
 "nbformat": 4,
 "nbformat_minor": 5
}

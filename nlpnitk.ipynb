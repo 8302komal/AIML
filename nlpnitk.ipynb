{
 "cells": [
  {
   "cell_type": "code",
   "execution_count": 1,
   "id": "d525387c-d172-415e-9ac3-d34438e0b3b1",
   "metadata": {},
   "outputs": [
    {
     "name": "stdout",
     "output_type": "stream",
     "text": [
      "Requirement already satisfied: nltk in c:\\users\\komal\\anaconda3\\lib\\site-packages (3.9.1)\n",
      "Requirement already satisfied: click in c:\\users\\komal\\anaconda3\\lib\\site-packages (from nltk) (8.1.7)\n",
      "Requirement already satisfied: joblib in c:\\users\\komal\\anaconda3\\lib\\site-packages (from nltk) (1.4.2)\n",
      "Requirement already satisfied: regex>=2021.8.3 in c:\\users\\komal\\anaconda3\\lib\\site-packages (from nltk) (2024.9.11)\n",
      "Requirement already satisfied: tqdm in c:\\users\\komal\\anaconda3\\lib\\site-packages (from nltk) (4.66.5)\n",
      "Requirement already satisfied: colorama in c:\\users\\komal\\anaconda3\\lib\\site-packages (from click->nltk) (0.4.6)\n"
     ]
    }
   ],
   "source": [
    "!pip install nltk"
   ]
  },
  {
   "cell_type": "code",
   "execution_count": 11,
   "id": "5c4a78a2-ecc8-4304-84f1-d3cc13491bd6",
   "metadata": {},
   "outputs": [
    {
     "name": "stderr",
     "output_type": "stream",
     "text": [
      "[nltk_data] Downloading package punkt to\n",
      "[nltk_data]     C:\\Users\\komal\\AppData\\Roaming\\nltk_data...\n",
      "[nltk_data]   Package punkt is already up-to-date!\n",
      "[nltk_data] Downloading package stopwords to\n",
      "[nltk_data]     C:\\Users\\komal\\AppData\\Roaming\\nltk_data...\n",
      "[nltk_data]   Package stopwords is already up-to-date!\n",
      "[nltk_data] Downloading package wordnet to\n",
      "[nltk_data]     C:\\Users\\komal\\AppData\\Roaming\\nltk_data...\n",
      "[nltk_data]   Package wordnet is already up-to-date!\n",
      "[nltk_data] Downloading package averaged_perceptron_tagger to\n",
      "[nltk_data]     C:\\Users\\komal\\AppData\\Roaming\\nltk_data...\n",
      "[nltk_data]   Package averaged_perceptron_tagger is already up-to-\n",
      "[nltk_data]       date!\n",
      "[nltk_data] Downloading package punkt_tab to\n",
      "[nltk_data]     C:\\Users\\komal\\AppData\\Roaming\\nltk_data...\n",
      "[nltk_data]   Package punkt_tab is already up-to-date!\n",
      "[nltk_data] Downloading package averaged_perceptron_tagger_eng to\n",
      "[nltk_data]     C:\\Users\\komal\\AppData\\Roaming\\nltk_data...\n",
      "[nltk_data]   Package averaged_perceptron_tagger_eng is already up-to-\n",
      "[nltk_data]       date!\n"
     ]
    },
    {
     "data": {
      "text/plain": [
       "True"
      ]
     },
     "execution_count": 11,
     "metadata": {},
     "output_type": "execute_result"
    }
   ],
   "source": [
    "import nltk\n",
    "from nltk.tokenize import sent_tokenize, word_tokenize\n",
    "from nltk.corpus import stopwords\n",
    "from nltk.stem import PorterStemmer\n",
    "from nltk.stem import WordNetLemmatizer\n",
    "from nltk import pos_tag\n",
    "\n",
    "# Ensure you have the required NLTK data packages\n",
    "nltk.download('punkt')\n",
    "nltk.download('stopwords')\n",
    "nltk.download('wordnet')\n",
    "nltk.download('averaged_perceptron_tagger')\n",
    "nltk.download('punkt_tab')\n",
    "nltk.download('averaged_perceptron_tagger_eng')"
   ]
  },
  {
   "cell_type": "code",
   "execution_count": 13,
   "id": "17238aa6-65b8-4138-bf1d-6073c53ab1aa",
   "metadata": {},
   "outputs": [
    {
     "name": "stdout",
     "output_type": "stream",
     "text": [
      "Multivariate Linear Regression\" and \"Multiple Linear Regression\" usually confer the same concept in the context of linear regression modeling. \n",
      "Both terms describe a linear regression version in which you have multiple impartial variables (features) used to expect \n",
      "a single structured variable (target). In different phrases, each phrase means a linear regression version with more than one predictor variable.\n"
     ]
    }
   ],
   "source": [
    "text=\"\"\"Multivariate Linear Regression\" and \"Multiple Linear Regression\" usually confer the same concept in the context of linear regression modeling. \n",
    "Both terms describe a linear regression version in which you have multiple impartial variables (features) used to expect \n",
    "a single structured variable (target). In different phrases, each phrase means a linear regression version with more than one predictor variable.\"\"\"\n",
    "print(text)"
   ]
  },
  {
   "cell_type": "code",
   "execution_count": 15,
   "id": "a6a9ed74-ff3e-4f39-b118-549318a15d02",
   "metadata": {},
   "outputs": [
    {
     "name": "stdout",
     "output_type": "stream",
     "text": [
      "Sentences: ['Multivariate Linear Regression\" and \"Multiple Linear Regression\" usually confer the same concept in the context of linear regression modeling.', 'Both terms describe a linear regression version in which you have multiple impartial variables (features) used to expect \\na single structured variable (target).', 'In different phrases, each phrase means a linear regression version with more than one predictor variable.']\n",
      "Words: ['Multivariate', 'Linear', 'Regression', \"''\", 'and', '``', 'Multiple', 'Linear', 'Regression', \"''\", 'usually', 'confer', 'the', 'same', 'concept', 'in', 'the', 'context', 'of', 'linear', 'regression', 'modeling', '.', 'Both', 'terms', 'describe', 'a', 'linear', 'regression', 'version', 'in', 'which', 'you', 'have', 'multiple', 'impartial', 'variables', '(', 'features', ')', 'used', 'to', 'expect', 'a', 'single', 'structured', 'variable', '(', 'target', ')', '.', 'In', 'different', 'phrases', ',', 'each', 'phrase', 'means', 'a', 'linear', 'regression', 'version', 'with', 'more', 'than', 'one', 'predictor', 'variable', '.']\n"
     ]
    }
   ],
   "source": [
    "# 1. Break the text into sentences and words\n",
    "sentences = sent_tokenize(text)\n",
    "words = word_tokenize(text)\n",
    "\n",
    "print(\"Sentences:\", sentences)\n",
    "print(\"Words:\", words)"
   ]
  },
  {
   "cell_type": "code",
   "execution_count": 17,
   "id": "97d663ad-ed84-4fb5-bd76-ea395688e9eb",
   "metadata": {},
   "outputs": [
    {
     "name": "stdout",
     "output_type": "stream",
     "text": [
      "Filtered Words: ['Multivariate', 'Linear', 'Regression', 'Multiple', 'Linear', 'Regression', 'usually', 'confer', 'concept', 'context', 'linear', 'regression', 'modeling', 'Both', 'terms', 'describe', 'linear', 'regression', 'version', 'multiple', 'impartial', 'variables', 'features', 'used', 'expect', 'single', 'structured', 'variable', 'target', 'In', 'different', 'phrases', 'phrase', 'means', 'linear', 'regression', 'version', 'one', 'predictor', 'variable']\n"
     ]
    }
   ],
   "source": [
    "# 2. Remove common words (stop words)\n",
    "stop_words = set(stopwords.words('english'))\n",
    "filtered_words = [word for word in words if word.isalpha() and word not in stop_words]\n",
    "# The general syntax for a list comprehension is: [expression for item in iterable if condition]\n",
    "print(\"Filtered Words:\", filtered_words)"
   ]
  },
  {
   "cell_type": "code",
   "execution_count": 19,
   "id": "3ca48f93-b512-4481-8749-124e6e9f8226",
   "metadata": {},
   "outputs": [
    {
     "name": "stdout",
     "output_type": "stream",
     "text": [
      "Stemmed Words: ['multivari', 'linear', 'regress', 'multipl', 'linear', 'regress', 'usual', 'confer', 'concept', 'context', 'linear', 'regress', 'model', 'both', 'term', 'describ', 'linear', 'regress', 'version', 'multipl', 'imparti', 'variabl', 'featur', 'use', 'expect', 'singl', 'structur', 'variabl', 'target', 'in', 'differ', 'phrase', 'phrase', 'mean', 'linear', 'regress', 'version', 'one', 'predictor', 'variabl']\n"
     ]
    }
   ],
   "source": [
    "# 3. Reduce words to their base form using stemming\n",
    "stemmer = PorterStemmer()\n",
    "stemmed_words = [stemmer.stem(word) for word in filtered_words]\n",
    "\n",
    "print(\"Stemmed Words:\", stemmed_words)"
   ]
  },
  {
   "cell_type": "code",
   "execution_count": 23,
   "id": "9ad210a4-ce08-484d-9b80-0dd09885a41c",
   "metadata": {},
   "outputs": [
    {
     "name": "stdout",
     "output_type": "stream",
     "text": [
      "Lemmatized Words: ['Multivariate', 'Linear', 'Regression', 'Multiple', 'Linear', 'Regression', 'usually', 'confer', 'concept', 'context', 'linear', 'regression', 'modeling', 'Both', 'term', 'describe', 'linear', 'regression', 'version', 'multiple', 'impartial', 'variable', 'feature', 'used', 'expect', 'single', 'structured', 'variable', 'target', 'In', 'different', 'phrase', 'phrase', 'mean', 'linear', 'regression', 'version', 'one', 'predictor', 'variable']\n"
     ]
    }
   ],
   "source": [
    "# 4. Perform lemmatization\n",
    "lemmatizer = WordNetLemmatizer()\n",
    "lemmatized_words = [lemmatizer.lemmatize(word) for word in filtered_words]\n",
    "\n",
    "print(\"Lemmatized Words:\", lemmatized_words)"
   ]
  },
  {
   "cell_type": "code",
   "execution_count": null,
   "id": "92ade17c-3f10-46b9-9644-02bd44341f3c",
   "metadata": {},
   "outputs": [],
   "source": []
  }
 ],
 "metadata": {
  "kernelspec": {
   "display_name": "Python [conda env:base] *",
   "language": "python",
   "name": "conda-base-py"
  },
  "language_info": {
   "codemirror_mode": {
    "name": "ipython",
    "version": 3
   },
   "file_extension": ".py",
   "mimetype": "text/x-python",
   "name": "python",
   "nbconvert_exporter": "python",
   "pygments_lexer": "ipython3",
   "version": "3.12.7"
  }
 },
 "nbformat": 4,
 "nbformat_minor": 5
}
